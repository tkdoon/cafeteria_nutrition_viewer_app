{
  "cells": [
    {
      "cell_type": "markdown",
      "metadata": {
        "id": "view-in-github",
        "colab_type": "text"
      },
      "source": [
        "<a href=\"https://colab.research.google.com/github/tkdoon/mask_nomask_app/blob/main/yolov7.ipynb\" target=\"_parent\"><img src=\"https://colab.research.google.com/assets/colab-badge.svg\" alt=\"Open In Colab\"/></a>"
      ]
    },
    {
      "cell_type": "markdown",
      "metadata": {
        "id": "XS4Z2rz0tC4H"
      },
      "source": [
        "yolov7"
      ]
    },
    {
      "cell_type": "code",
      "source": [
        "%cd /content"
      ],
      "metadata": {
        "id": "ijN9Ydu9v0a4"
      },
      "execution_count": null,
      "outputs": []
    },
    {
      "cell_type": "code",
      "execution_count": null,
      "metadata": {
        "id": "Ky_0htM5sMmm"
      },
      "outputs": [],
      "source": [
        "!git clone https://github.com/WongKinYiu/yolov7\n",
        "%cd yolov7"
      ]
    },
    {
      "cell_type": "code",
      "execution_count": null,
      "metadata": {
        "id": "77_-OvFBycDq"
      },
      "outputs": [],
      "source": [
        "%cd /content/yolov7"
      ]
    },
    {
      "cell_type": "markdown",
      "metadata": {
        "id": "nWTrUIrWypg5"
      },
      "source": [
        "requirements.txtをyamlだけに変えたほうがいいらしい"
      ]
    },
    {
      "cell_type": "code",
      "execution_count": null,
      "metadata": {
        "id": "raHo-5xWxcHl"
      },
      "outputs": [],
      "source": [
        "!pip install -r requirements.txt"
      ]
    },
    {
      "cell_type": "code",
      "execution_count": null,
      "metadata": {
        "id": "_QMEZE5qtfZx"
      },
      "outputs": [],
      "source": [
        "!wget https://github.com/WongKinYiu/yolov7/releases/download/v0.1/yolov7-e6.pt -P ./checkpoints"
      ]
    },
    {
      "cell_type": "markdown",
      "metadata": {
        "id": "4gbgK4cS3VVe"
      },
      "source": [
        "モデルを試すだけ"
      ]
    },
    {
      "cell_type": "code",
      "execution_count": null,
      "metadata": {
        "id": "v2kQDauHtpKn"
      },
      "outputs": [],
      "source": [
        "!python detect.py --source inference/images/horses.jpg \\\n",
        "  --weights checkpoints/yolov7-e6.pt \\\n",
        "  --conf 0.25 --img-size 1280 --device 0\n",
        "from IPython.display import Image\n",
        "Image(\"runs/detect/exp/horses.jpg\")"
      ]
    },
    {
      "cell_type": "markdown",
      "metadata": {
        "id": "clYNkykh4Ovj"
      },
      "source": [
        "マスクした人のデータセット"
      ]
    },
    {
      "cell_type": "code",
      "execution_count": null,
      "metadata": {
        "id": "tVb1GquMy6rT"
      },
      "outputs": [],
      "source": [
        "!mkdir dataset\n",
        "%cd dataset"
      ]
    },
    {
      "cell_type": "code",
      "execution_count": null,
      "metadata": {
        "id": "xp4FAms-2mFA"
      },
      "outputs": [],
      "source": [
        "!curl -L \"https://public.roboflow.com/ds/m07FII2ClC?key=W8TVU9SlqE\" > roboflow.zip; unzip roboflow.zip; rm roboflow.zip"
      ]
    },
    {
      "cell_type": "code",
      "source": [
        "%cd  /content/yolov7"
      ],
      "metadata": {
        "id": "Y2VGS8-El7G5"
      },
      "execution_count": null,
      "outputs": []
    },
    {
      "cell_type": "markdown",
      "source": [
        "dataファルダにmask_wearing.yamlを作り，以下をコピペ[リンクテキスト](https://)\n",
        "\n",
        "\\# train and val data directory\\\n",
        "train: ./dataset/train\\\n",
        "val: ./dataset/valid\n",
        "\n",
        "\\# number of classes\\\n",
        "nc: 2\n",
        "\n",
        "\\# class names\\\n",
        "names: ['1つ目のクラス名', '2つ目のクラス名']\n"
      ],
      "metadata": {
        "id": "GV2JWJ3sm75i"
      }
    },
    {
      "cell_type": "code",
      "execution_count": null,
      "metadata": {
        "id": "yU2ZWdOL4TyZ"
      },
      "outputs": [],
      "source": [
        "!python train.py --workers 2 --batch-size 8 \\\n",
        "  --data data/mask_wearing.yaml \\\n",
        "  --cfg cfg/training/yolov7.yaml \\\n",
        "  --weights 'checkpoints/yolov7.pt' \\\n",
        "  --name yolov7-mask \\\n",
        "  --hyp data/hyp.scratch.p6.yaml \\\n",
        "  --epochs 100 \\\n",
        "  --device 0"
      ]
    },
    {
      "cell_type": "markdown",
      "source": [
        "↓food recognition"
      ],
      "metadata": {
        "id": "YwkQ2tGx_tJT"
      }
    },
    {
      "cell_type": "code",
      "source": [
        "%cd /content"
      ],
      "metadata": {
        "id": "kLG-NLNMSP8Z"
      },
      "execution_count": null,
      "outputs": []
    },
    {
      "cell_type": "code",
      "source": [
        "!git clone https://github.com/tkdoon/mask_nomask_app.git"
      ],
      "metadata": {
        "id": "hOxVcxTyQO6E"
      },
      "execution_count": null,
      "outputs": []
    },
    {
      "cell_type": "code",
      "source": [
        "%cd /content/yolov7/dataset/\n",
        "!mkdir train\n",
        "!mkdir valid\n",
        "%cd train\n",
        "!mkdir labels\n",
        "!mkdir images\n",
        "%cd ../valid\n",
        "!mkdir labels\n",
        "!mkdir images"
      ],
      "metadata": {
        "id": "kxHSu8KYt_NU"
      },
      "execution_count": null,
      "outputs": []
    },
    {
      "cell_type": "code",
      "source": [
        "%cd /content/mask_nomask_app/ObjectDetection/"
      ],
      "metadata": {
        "id": "K6RNg8Metbc2"
      },
      "execution_count": null,
      "outputs": []
    },
    {
      "cell_type": "markdown",
      "source": [
        "img_directory_path = '/content/drive/MyDrive/Photos/'\\\n",
        "train_img_path = '/content/yolov7/dataset/train/images/'\\\n",
        "valid_img_path = '/content/yolov7/dataset/valid/images/'\\\n",
        "train_txt_path = '/content/yolov7/dataset/train/labels/'\\\n",
        "valid_txt_path = '/content/yolov7/dataset/valid/labels/'\\\n",
        "をsplit_img_make_txt.pyに設定"
      ],
      "metadata": {
        "id": "rr_yjSUkvPUE"
      }
    },
    {
      "cell_type": "code",
      "source": [
        "!python split_img_make_txt.py"
      ],
      "metadata": {
        "id": "DHi3c2XttjwB"
      },
      "execution_count": null,
      "outputs": []
    },
    {
      "cell_type": "markdown",
      "source": [
        "ここからやればOK"
      ],
      "metadata": {
        "id": "tAMxf8yI_39E"
      }
    },
    {
      "cell_type": "code",
      "source": [
        "%cd /content/yolov7/"
      ],
      "metadata": {
        "id": "Ffjd5zcnw3pU"
      },
      "execution_count": null,
      "outputs": []
    },
    {
      "cell_type": "markdown",
      "source": [
        "\\# train and val data directory\\\n",
        "train: ./dataset/train\\\n",
        "val: ./dataset/valid\\\n",
        "\\# number of classes\\\n",
        "nc: 16\\\n",
        "\\# class names\\\n",
        "names: ['bangbangji-tofu','chiken_shiodare','hamburg_oroshi_sauce','hanjuku_tamago','ichigo_loveberry','karamiso_butadon','karamiso_ramen',\n",
        "        'kebab_rice','mugi_gohan','pho','potato_daizu_meat_curry','rice','sakedon','satsuma_chiken_liver','shiromi_fry_tarutaru','waguri_monburan']\n",
        "\n",
        "をfood_recog.yamlにコピペ"
      ],
      "metadata": {
        "id": "VpkuWunv1aZN"
      }
    },
    {
      "cell_type": "code",
      "source": [
        "%cp -f -r /content/drive/MyDrive/dataset /content/yolov7/ "
      ],
      "metadata": {
        "id": "dVzlbHmq2QXm"
      },
      "execution_count": null,
      "outputs": []
    },
    {
      "cell_type": "code",
      "source": [
        "!python train.py --workers 2 --batch-size 8 \\\n",
        "  --data data/food_recog.yaml \\\n",
        "  --cfg cfg/training/yolov7.yaml \\\n",
        "  --weights 'checkpoints/yolov7.pt' \\\n",
        "  --name yolov7-food \\\n",
        "  --hyp data/hyp.scratch.p6.yaml \\\n",
        "  --epochs 100 \\\n",
        "  --device 0"
      ],
      "metadata": {
        "id": "1VS3GVlowUTw"
      },
      "execution_count": null,
      "outputs": []
    },
    {
      "cell_type": "code",
      "source": [
        "%pip install nvidia-pyindex\n",
        "%pip install onnx-graphsurgeon\n",
        "%pip install onnx onnxruntime onnxsim onnx-tf"
      ],
      "metadata": {
        "id": "iQMc6tuosxeT"
      },
      "execution_count": null,
      "outputs": []
    },
    {
      "cell_type": "code",
      "source": [
        "%cd /content/yolov7/runs/train/yolov7-food5/weights/"
      ],
      "metadata": {
        "id": "0oxUdxVkuItf"
      },
      "execution_count": null,
      "outputs": []
    },
    {
      "cell_type": "code",
      "source": [
        "!python /content/yolov7/export.py --weights last.pt --grid --end2end --simplify \\\n",
        "        --topk-all 100 --iou-thres 0.65 --conf-thres 0.35 --img-size 640 640 --max-wh 640"
      ],
      "metadata": {
        "id": "9gNrS4c_tOdG"
      },
      "execution_count": null,
      "outputs": []
    }
  ],
  "metadata": {
    "accelerator": "GPU",
    "colab": {
      "provenance": [],
      "private_outputs": true,
      "mount_file_id": "1VF3uIQebJDhf4bKQByMkn3q90hIYJOOK",
      "authorship_tag": "ABX9TyPQEFdR+PE4MCu5v+O/pZ1v",
      "include_colab_link": true
    },
    "gpuClass": "standard",
    "kernelspec": {
      "display_name": "Python 3",
      "name": "python3"
    },
    "language_info": {
      "name": "python"
    }
  },
  "nbformat": 4,
  "nbformat_minor": 0
}